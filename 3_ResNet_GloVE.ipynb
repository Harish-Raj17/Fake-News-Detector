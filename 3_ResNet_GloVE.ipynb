{
 "cells": [
  {
   "cell_type": "code",
   "execution_count": 2,
   "id": "cd2f2f35-6fea-4c9d-8293-f8cc0a53f0a1",
   "metadata": {},
   "outputs": [
    {
     "name": "stdout",
     "output_type": "stream",
     "text": [
      "Collecting googletrans\n",
      "  Using cached googletrans-4.0.2-py3-none-any.whl.metadata (10 kB)\n",
      "Collecting httpx>=0.27.2 (from httpx[http2]>=0.27.2->googletrans)\n",
      "  Using cached httpx-0.28.1-py3-none-any.whl.metadata (7.1 kB)\n",
      "Collecting anyio (from httpx>=0.27.2->httpx[http2]>=0.27.2->googletrans)\n",
      "  Using cached anyio-4.9.0-py3-none-any.whl.metadata (4.7 kB)\n",
      "Requirement already satisfied: certifi in f:\\anaconda3\\envs\\gpuenv\\lib\\site-packages (from httpx>=0.27.2->httpx[http2]>=0.27.2->googletrans) (2025.1.31)\n",
      "Collecting httpcore==1.* (from httpx>=0.27.2->httpx[http2]>=0.27.2->googletrans)\n",
      "  Using cached httpcore-1.0.8-py3-none-any.whl.metadata (21 kB)\n",
      "Requirement already satisfied: idna in f:\\anaconda3\\envs\\gpuenv\\lib\\site-packages (from httpx>=0.27.2->httpx[http2]>=0.27.2->googletrans) (3.10)\n",
      "Collecting h11<0.15,>=0.13 (from httpcore==1.*->httpx>=0.27.2->httpx[http2]>=0.27.2->googletrans)\n",
      "  Using cached h11-0.14.0-py3-none-any.whl.metadata (8.2 kB)\n",
      "Collecting h2<5,>=3 (from httpx[http2]>=0.27.2->googletrans)\n",
      "  Using cached h2-4.2.0-py3-none-any.whl.metadata (5.1 kB)\n",
      "Collecting hyperframe<7,>=6.1 (from h2<5,>=3->httpx[http2]>=0.27.2->googletrans)\n",
      "  Using cached hyperframe-6.1.0-py3-none-any.whl.metadata (4.3 kB)\n",
      "Collecting hpack<5,>=4.1 (from h2<5,>=3->httpx[http2]>=0.27.2->googletrans)\n",
      "  Using cached hpack-4.1.0-py3-none-any.whl.metadata (4.6 kB)\n",
      "Requirement already satisfied: exceptiongroup>=1.0.2 in f:\\anaconda3\\envs\\gpuenv\\lib\\site-packages (from anyio->httpx>=0.27.2->httpx[http2]>=0.27.2->googletrans) (1.2.2)\n",
      "Collecting sniffio>=1.1 (from anyio->httpx>=0.27.2->httpx[http2]>=0.27.2->googletrans)\n",
      "  Using cached sniffio-1.3.1-py3-none-any.whl.metadata (3.9 kB)\n",
      "Requirement already satisfied: typing_extensions>=4.5 in f:\\anaconda3\\envs\\gpuenv\\lib\\site-packages (from anyio->httpx>=0.27.2->httpx[http2]>=0.27.2->googletrans) (4.13.2)\n",
      "Using cached googletrans-4.0.2-py3-none-any.whl (18 kB)\n",
      "Using cached httpx-0.28.1-py3-none-any.whl (73 kB)\n",
      "Using cached httpcore-1.0.8-py3-none-any.whl (78 kB)\n",
      "Using cached h2-4.2.0-py3-none-any.whl (60 kB)\n",
      "Using cached anyio-4.9.0-py3-none-any.whl (100 kB)\n",
      "Using cached h11-0.14.0-py3-none-any.whl (58 kB)\n",
      "Using cached hpack-4.1.0-py3-none-any.whl (34 kB)\n",
      "Using cached hyperframe-6.1.0-py3-none-any.whl (13 kB)\n",
      "Using cached sniffio-1.3.1-py3-none-any.whl (10 kB)\n",
      "Installing collected packages: sniffio, hyperframe, hpack, h11, httpcore, h2, anyio, httpx, googletrans\n",
      "Successfully installed anyio-4.9.0 googletrans-4.0.2 h11-0.14.0 h2-4.2.0 hpack-4.1.0 httpcore-1.0.8 httpx-0.28.1 hyperframe-6.1.0 sniffio-1.3.1\n"
     ]
    }
   ],
   "source": [
    "!pip install googletrans"
   ]
  },
  {
   "cell_type": "code",
   "execution_count": 1,
   "id": "733c5efe-a727-4238-a948-4c1e9ce1c3d0",
   "metadata": {
    "id": "733c5efe-a727-4238-a948-4c1e9ce1c3d0"
   },
   "outputs": [],
   "source": [
    "import numpy as np\n",
    "import pandas as pd\n",
    "import tensorflow as tf\n",
    "from tensorflow.keras.preprocessing.text import Tokenizer\n",
    "from tensorflow.keras.callbacks import EarlyStopping\n",
    "from tensorflow.keras.preprocessing.sequence import pad_sequences\n",
    "from tensorflow.keras.models import Sequential\n",
    "from tensorflow.keras.layers import Embedding, Conv1D, MaxPooling1D, LSTM, Bidirectional, Dense, Dropout, GlobalMaxPooling1D, Input, concatenate\n",
    "from tensorflow.keras.optimizers import Adamax\n",
    "from tensorflow.keras.regularizers import l2\n",
    "from sklearn.model_selection import train_test_split\n",
    "from sklearn.metrics import accuracy_score, precision_score, recall_score, f1_score\n",
    "from googletrans import Translator\n",
    "import nltk\n",
    "from nltk.corpus import stopwords\n",
    "from nltk.stem import WordNetLemmatizer\n",
    "import re\n",
    "import time"
   ]
  },
  {
   "cell_type": "code",
   "execution_count": 2,
   "id": "cf4d9c90-6362-4e76-a8f5-eb96f7c4c36e",
   "metadata": {
    "id": "cf4d9c90-6362-4e76-a8f5-eb96f7c4c36e"
   },
   "outputs": [],
   "source": [
    "from sklearn.metrics import confusion_matrix\n",
    "import matplotlib.pyplot as plt\n",
    "import seaborn as sns"
   ]
  },
  {
   "cell_type": "code",
   "execution_count": 3,
   "id": "b92edefc-1148-4b5a-98cf-6fd3a4c27bdb",
   "metadata": {
    "colab": {
     "base_uri": "https://localhost:8080/",
     "height": 206
    },
    "id": "b92edefc-1148-4b5a-98cf-6fd3a4c27bdb",
    "outputId": "2c7d9565-c548-461d-b963-01bafc72abb2"
   },
   "outputs": [
    {
     "data": {
      "text/html": [
       "<div>\n",
       "<style scoped>\n",
       "    .dataframe tbody tr th:only-of-type {\n",
       "        vertical-align: middle;\n",
       "    }\n",
       "\n",
       "    .dataframe tbody tr th {\n",
       "        vertical-align: top;\n",
       "    }\n",
       "\n",
       "    .dataframe thead th {\n",
       "        text-align: right;\n",
       "    }\n",
       "</style>\n",
       "<table border=\"1\" class=\"dataframe\">\n",
       "  <thead>\n",
       "    <tr style=\"text-align: right;\">\n",
       "      <th></th>\n",
       "      <th>text</th>\n",
       "      <th>label</th>\n",
       "    </tr>\n",
       "  </thead>\n",
       "  <tbody>\n",
       "    <tr>\n",
       "      <th>0</th>\n",
       "      <td>washington reuters head conservative republica...</td>\n",
       "      <td>1</td>\n",
       "    </tr>\n",
       "    <tr>\n",
       "      <th>1</th>\n",
       "      <td>washington reuters transgender people allowed ...</td>\n",
       "      <td>1</td>\n",
       "    </tr>\n",
       "    <tr>\n",
       "      <th>2</th>\n",
       "      <td>washington reuters special counsel investigati...</td>\n",
       "      <td>1</td>\n",
       "    </tr>\n",
       "    <tr>\n",
       "      <th>3</th>\n",
       "      <td>washington reuters trump campaign adviser geor...</td>\n",
       "      <td>1</td>\n",
       "    </tr>\n",
       "    <tr>\n",
       "      <th>4</th>\n",
       "      <td>seattlewashington reuters president donald tru...</td>\n",
       "      <td>1</td>\n",
       "    </tr>\n",
       "  </tbody>\n",
       "</table>\n",
       "</div>"
      ],
      "text/plain": [
       "                                                text  label\n",
       "0  washington reuters head conservative republica...      1\n",
       "1  washington reuters transgender people allowed ...      1\n",
       "2  washington reuters special counsel investigati...      1\n",
       "3  washington reuters trump campaign adviser geor...      1\n",
       "4  seattlewashington reuters president donald tru...      1"
      ]
     },
     "execution_count": 3,
     "metadata": {},
     "output_type": "execute_result"
    }
   ],
   "source": [
    "df = pd.read_csv('1_augmented_df.csv')\n",
    "df.head()"
   ]
  },
  {
   "cell_type": "code",
   "execution_count": 4,
   "id": "44872d3d-44d0-408e-96cf-ae9d1a4338fe",
   "metadata": {
    "id": "44872d3d-44d0-408e-96cf-ae9d1a4338fe"
   },
   "outputs": [],
   "source": [
    "# Splitting the dataset\n",
    "X_train, X_test, y_train, y_test = train_test_split(\n",
    "    df['text'], df['label'], test_size=0.2, random_state=42, shuffle=True, stratify=df['label']\n",
    ")"
   ]
  },
  {
   "cell_type": "code",
   "execution_count": 5,
   "id": "a4e27fc6-918c-4374-9e25-0849f0eaf44b",
   "metadata": {
    "id": "a4e27fc6-918c-4374-9e25-0849f0eaf44b"
   },
   "outputs": [],
   "source": [
    "# Tokenization and padding\n",
    "X_train = pd.Series(X_train).fillna(\"\").astype(str)\n",
    "X_test = pd.Series(X_test).fillna(\"\").astype(str)\n",
    "tokenizer = Tokenizer(num_words=10000)\n",
    "tokenizer.fit_on_texts(X_train)\n",
    "X_train_seq = tokenizer.texts_to_sequences(X_train)\n",
    "X_test_seq = tokenizer.texts_to_sequences(X_test)\n",
    "X_train_pad = pad_sequences(X_train_seq, maxlen=1000)\n",
    "X_test_pad = pad_sequences(X_test_seq, maxlen=1000)"
   ]
  },
  {
   "cell_type": "code",
   "execution_count": 6,
   "id": "935592d9-072b-46bf-b684-26cf7291c95e",
   "metadata": {
    "id": "935592d9-072b-46bf-b684-26cf7291c95e"
   },
   "outputs": [],
   "source": [
    "# Load pre-trained word embeddings (GloVe)\n",
    "def load_glove_embeddings():\n",
    "    embeddings_index = {}\n",
    "    with open('glove.6B.100d.txt', encoding='utf-8') as f:\n",
    "        for line in f:\n",
    "            values = line.split()\n",
    "            word = values[0]\n",
    "            coefs = np.asarray(values[1:], dtype='float32')\n",
    "            embeddings_index[word] = coefs\n",
    "    return embeddings_index\n",
    "\n",
    "embeddings_index = load_glove_embeddings()\n",
    "embedding_dim = 100\n",
    "embedding_matrix = np.zeros((10000, embedding_dim))\n",
    "for word, i in tokenizer.word_index.items():\n",
    "    if i < 10000:\n",
    "        embedding_vector = embeddings_index.get(word)\n",
    "        if embedding_vector is not None:\n",
    "            embedding_matrix[i] = embedding_vector"
   ]
  },
  {
   "cell_type": "code",
   "execution_count": 7,
   "id": "717e718f-98c3-4a3e-bd05-8f4f105ec2bb",
   "metadata": {
    "id": "717e718f-98c3-4a3e-bd05-8f4f105ec2bb"
   },
   "outputs": [],
   "source": [
    "# Build ResNet model with L2 regularization\n",
    "def build_resnet_model():\n",
    "    input_layer = Input(shape=(1000,))\n",
    "    embedding_layer = Embedding(input_dim=10000, output_dim=100, input_length=1000, trainable=True)(input_layer)\n",
    "    conv1 = Conv1D(filters=128, kernel_size=5, activation='relu', padding='same', kernel_regularizer=l2(0.001))(embedding_layer)\n",
    "    pool1 = MaxPooling1D(pool_size=2)(conv1)\n",
    "    conv2 = Conv1D(filters=128, kernel_size=5, activation='relu', padding='same', kernel_regularizer=l2(0.001))(pool1)\n",
    "    add1 = concatenate([pool1, conv2])\n",
    "    conv3 = Conv1D(filters=128, kernel_size=5, activation='relu', padding='same', kernel_regularizer=l2(0.001))(add1)\n",
    "    pool2 = MaxPooling1D(pool_size=2)(conv3)\n",
    "    conv4 = Conv1D(filters=128, kernel_size=5, activation='relu', padding='same', kernel_regularizer=l2(0.001))(pool2)\n",
    "    add2 = concatenate([pool2, conv4])\n",
    "    global_pool = GlobalMaxPooling1D()(add2)\n",
    "    dense1 = Dense(128, activation='relu', kernel_regularizer=l2(0.001))(global_pool)\n",
    "    dropout = Dropout(0.5)(dense1)\n",
    "    output_layer = Dense(1, activation='sigmoid')(dropout)\n",
    "    model = tf.keras.Model(inputs=input_layer, outputs=output_layer)\n",
    "    model.compile(optimizer=Adamax(), loss='binary_crossentropy', metrics=['accuracy'])\n",
    "    return model"
   ]
  },
  {
   "cell_type": "code",
   "execution_count": 8,
   "id": "725a1b47-0f11-4b44-9cb0-7852b3be89fc",
   "metadata": {
    "id": "725a1b47-0f11-4b44-9cb0-7852b3be89fc"
   },
   "outputs": [],
   "source": [
    "# Train and evaluate function\n",
    "def train_and_evaluate(model, X_train, y_train, X_test, y_test):\n",
    "    early_stopping = EarlyStopping(monitor='val_loss', patience=5, restore_best_weights=True)\n",
    "    model.fit(X_train, y_train, epochs=10, batch_size=64, validation_split=0.2, callbacks=[early_stopping])\n",
    "    y_pred = model.predict(X_test)\n",
    "    y_pred = (y_pred > 0.5).astype(int)\n",
    "    accuracy = accuracy_score(y_test, y_pred)\n",
    "    precision = precision_score(y_test, y_pred)\n",
    "    recall = recall_score(y_test, y_pred)\n",
    "    f1 = f1_score(y_test, y_pred)\n",
    "    return accuracy, precision, recall, f1, y_pred"
   ]
  },
  {
   "cell_type": "code",
   "execution_count": 9,
   "id": "7c3689bc-2373-4443-90cb-9fe5884d5949",
   "metadata": {},
   "outputs": [
    {
     "name": "stdout",
     "output_type": "stream",
     "text": [
      "GPUs Available: [PhysicalDevice(name='/physical_device:GPU:0', device_type='GPU')]\n"
     ]
    }
   ],
   "source": [
    "import tensorflow as tf\n",
    "gpus = tf.config.list_physical_devices('GPU')\n",
    "print(\"GPUs Available:\", gpus)"
   ]
  },
  {
   "cell_type": "code",
   "execution_count": 10,
   "id": "489fd123-3c99-4212-97b8-a499c8b9bb68",
   "metadata": {
    "colab": {
     "base_uri": "https://localhost:8080/"
    },
    "id": "489fd123-3c99-4212-97b8-a499c8b9bb68",
    "outputId": "e291d086-3802-4c25-d510-1b126e4b7b2e"
   },
   "outputs": [
    {
     "name": "stdout",
     "output_type": "stream",
     "text": [
      "Epoch 1/10\n",
      "470/470 [==============================] - 32s 60ms/step - loss: 0.2948 - accuracy: 0.9272 - val_loss: 0.1082 - val_accuracy: 0.9924\n",
      "Epoch 2/10\n",
      "470/470 [==============================] - 28s 60ms/step - loss: 0.0663 - accuracy: 0.9985 - val_loss: 0.0559 - val_accuracy: 0.9976\n",
      "Epoch 3/10\n",
      "470/470 [==============================] - 28s 60ms/step - loss: 0.0423 - accuracy: 0.9988 - val_loss: 0.0392 - val_accuracy: 0.9984\n",
      "Epoch 4/10\n",
      "470/470 [==============================] - 28s 60ms/step - loss: 0.0301 - accuracy: 0.9993 - val_loss: 0.0310 - val_accuracy: 0.9981\n",
      "Epoch 5/10\n",
      "470/470 [==============================] - 28s 60ms/step - loss: 0.0242 - accuracy: 0.9996 - val_loss: 0.0270 - val_accuracy: 0.9980\n",
      "Epoch 6/10\n",
      "470/470 [==============================] - 28s 60ms/step - loss: 0.0211 - accuracy: 0.9992 - val_loss: 0.0250 - val_accuracy: 0.9983\n",
      "Epoch 7/10\n",
      "470/470 [==============================] - 28s 61ms/step - loss: 0.0185 - accuracy: 0.9998 - val_loss: 0.0220 - val_accuracy: 0.9983\n",
      "Epoch 8/10\n",
      "470/470 [==============================] - 28s 60ms/step - loss: 0.0171 - accuracy: 0.9997 - val_loss: 0.0212 - val_accuracy: 0.9981\n",
      "Epoch 9/10\n",
      "470/470 [==============================] - 28s 60ms/step - loss: 0.0158 - accuracy: 0.9997 - val_loss: 0.0216 - val_accuracy: 0.9983\n",
      "Epoch 10/10\n",
      "470/470 [==============================] - 28s 60ms/step - loss: 0.0152 - accuracy: 0.9996 - val_loss: 0.0195 - val_accuracy: 0.9987\n",
      "294/294 [==============================] - 4s 12ms/step\n",
      "ResNet - Accuracy: 0.9986171683863418, Precision: 0.9991480298189563, Recall: 0.9980851063829788, F1: 0.9986162852581161\n"
     ]
    }
   ],
   "source": [
    "# Train the ResNet model\n",
    "resnet_model = build_resnet_model()\n",
    "resnet_accuracy, resnet_precision, resnet_recall, resnet_f1, y_pred = train_and_evaluate(resnet_model, X_train_pad, y_train, X_test_pad, y_test)\n",
    "print(f\"ResNet - Accuracy: {resnet_accuracy}, Precision: {resnet_precision}, Recall: {resnet_recall}, F1: {resnet_f1}\")"
   ]
  },
  {
   "cell_type": "code",
   "execution_count": 11,
   "id": "925a04de-9a5a-4321-8b8b-31f9e8d33612",
   "metadata": {
    "colab": {
     "base_uri": "https://localhost:8080/",
     "height": 585
    },
    "id": "925a04de-9a5a-4321-8b8b-31f9e8d33612",
    "outputId": "b6079870-939e-41c2-d492-cccc5a8f3ba7",
    "scrolled": true
   },
   "outputs": [
    {
     "data": {
      "image/png": "[encoded data removed]",
      "text/plain": [
       "<Figure size 600x600 with 2 Axes>"
      ]
     },
     "metadata": {},
     "output_type": "display_data"
    }
   ],
   "source": [
    "def plot_confusion_matrix(y_true, y_pred, accuracy, precision, recall, f1):\n",
    "    cm = confusion_matrix(y_true, y_pred)\n",
    "    plt.figure(figsize=(6, 6))\n",
    "    sns.heatmap(cm, annot=True, fmt='d', cmap='Blues', xticklabels=np.unique(y_true), yticklabels=np.unique(y_true))\n",
    "    plt.xlabel('Predicted')\n",
    "    plt.ylabel('Actual')\n",
    "    plt.title(f'Confusion Matrix\\nAccuracy: {accuracy:.2f}, Precision: {precision:.2f}, Recall: {recall:.2f}, F1: {f1:.2f}')\n",
    "    plt.show()\n",
    "\n",
    "plot_confusion_matrix(y_test, y_pred, resnet_accuracy, resnet_precision, resnet_recall, resnet_f1)"
   ]
  },
  {
   "cell_type": "code",
   "execution_count": 12,
   "id": "64bf6760-738b-4e74-bf3f-7bbaefd0868c",
   "metadata": {},
   "outputs": [
    {
     "name": "stderr",
     "output_type": "stream",
     "text": [
      "[nltk_data] Downloading package stopwords to\n",
      "[nltk_data]     C:\\Users\\ashis\\AppData\\Roaming\\nltk_data...\n",
      "[nltk_data]   Package stopwords is already up-to-date!\n",
      "[nltk_data] Downloading package wordnet to\n",
      "[nltk_data]     C:\\Users\\ashis\\AppData\\Roaming\\nltk_data...\n",
      "[nltk_data]   Package wordnet is already up-to-date!\n",
      "[nltk_data] Downloading package omw-1.4 to\n",
      "[nltk_data]     C:\\Users\\ashis\\AppData\\Roaming\\nltk_data...\n",
      "[nltk_data]   Package omw-1.4 is already up-to-date!\n"
     ]
    },
    {
     "data": {
      "text/plain": [
       "True"
      ]
     },
     "execution_count": 12,
     "metadata": {},
     "output_type": "execute_result"
    }
   ],
   "source": [
    "import re\n",
    "import numpy as np\n",
    "from nltk.corpus import stopwords\n",
    "from nltk.stem import WordNetLemmatizer\n",
    "from tensorflow.keras.preprocessing.sequence import pad_sequences\n",
    "\n",
    "# Make sure to download NLTK resources beforehand\n",
    "import nltk\n",
    "nltk.download('stopwords')\n",
    "nltk.download('wordnet')\n",
    "nltk.download('omw-1.4')"
   ]
  },
  {
   "cell_type": "code",
   "execution_count": 13,
   "id": "91da00ad-e245-4318-aa1b-4d6010322806",
   "metadata": {},
   "outputs": [],
   "source": [
    "# Preprocessing function from your notebook\n",
    "def preprocess_text(text):\n",
    "    text = text.lower()\n",
    "    text = re.sub(r'[^\\w\\s]', '', text)\n",
    "    text = re.sub(r'\\d+', '', text)\n",
    "    tokens = text.split()\n",
    "    tokens = [word for word in tokens if word not in stopwords.words('english')]\n",
    "    lemmatizer = WordNetLemmatizer()\n",
    "    tokens = [lemmatizer.lemmatize(word) for word in tokens]\n",
    "    return ' '.join(tokens)\n",
    "\n",
    "# Prediction function with preprocessing\n",
    "def predict_user_input(tokenizer, model, maxlen=1000):\n",
    "    user_input = input(\"Enter a news article or headline:\\n\")\n",
    "    clean_text = preprocess_text(user_input)\n",
    "    seq = tokenizer.texts_to_sequences([clean_text])\n",
    "    padded = pad_sequences(seq, maxlen=maxlen)\n",
    "    prediction = model.predict(padded)[0][0]\n",
    "    label = \"True\" if prediction > 0.5 else \"Fake\"\n",
    "    print(f\"\\nPrediction: {label} (Confidence: {prediction:.4f})\")"
   ]
  },
  {
   "cell_type": "code",
   "execution_count": 15,
   "id": "bcb7c2dc-b356-4a9b-b5d1-c51ae7a860d1",
   "metadata": {},
   "outputs": [
    {
     "name": "stdin",
     "output_type": "stream",
     "text": [
      "Enter a news article or headline:\n",
      " MADRID (Reuters) - Spain s northeastern region of Catalonia, hit last week by two Islamist militant attacks which killed 15 people, is to deploy more police, install bollards in Barcelona and step up security around stations and tourist landmarks. The aim is to strike a balance between security and not overloading residents with restrictions.  We re looking at introducing (street) obstacles that could be mobile,  Joaquin Forn, who is in charge of home affairs in Catalonia, told a news conference on Wednesday. A van plowed into crowds of holidaymakers and local residents on Barcelona s crowded Las Ramblas boulevard last Thursday, killing 13 people. Two others were killed during the driver s getaway and in a separate attack in Cambrils. The Barcelona rampage reignited a row over how cities can better prevent such attacks. Militants have used trucks and cars as weapons to kill nearly 130 people in France, Germany, Britain, Sweden and Spain over the past 13 months. Catalan authorities may also erect some permanent barriers and turn some streets into pedestrian-only thoroughfares, Forn said. The regional capital, which receives around 30 million visitors a year, is home to several landmarks designed by architect Antoni Gaudi, including the towering Sagrada Familia. Forn added that some 10 percent more police would be deployed. Islamic State, which claimed responsibility for the attacks in Catalonia, issued a video via one of its official channels on Wednesday showing two of its fighters making threats in Spanish against Spain, interspersed with images of the aftermath of the Barcelona attack. One fighter pledged to avenge Muslim blood spilled by the Spanish Inquisition, established in 1478, and what he said was the killing Spain was currently engaged in against Islamic State. This was an apparent reference to Iraq, where Spain has several hundred soldiers training local forces in the fight against Islamic State. Investigators are still looking into whether the suspects behind last week s attacks had links to France or Belgium and are examining their movements over recent weeks as they look for connections to possible cells elsewhere in Europe.  The car used in the attack in Cambrils, south of Barcelona, was caught on camera speeding in the Paris region days earlier.  We are still trying to establish why they were in the Paris area,  French Interior Minister Gerard Collomb told reporters at a joint news conference in Paris with his Spanish counterpart on Wednesday.  Spanish Interior Minister Juan Ignacio Zoido said France and Spain would continue to reinforce border checks and step up information exchanges, including of passenger information in real time. One of the suspects has said the leader of the militant group was an imam, Abdelbaki Es Satty, who died a day before the Barcelona attack when a house the group was using to build bombs blew up. Court officials in Spain s Valencia region said on Wednesday that Spain had issued an expulsion order against Es Satty after he served a four-year jail term for drug-trafficking but that this was annulled by a court in 2015 after Es Satty appealed. The judge at the time overturned the expulsion order partly because Es Satty had employment roots in Spain which he said  shows his efforts to integrate in Spanish society.   A dozen Islamist militants suspected of involvement in the plot were either killed or arrested. A judge on Tuesday ordered two suspects jailed, one remained in police custody pending further investigation and a fourth was freed with conditions.\n"
     ]
    },
    {
     "name": "stdout",
     "output_type": "stream",
     "text": [
      "1/1 [==============================] - 0s 17ms/step\n",
      "\n",
      "Prediction: True (Confidence: 1.0000)\n"
     ]
    },
    {
     "name": "stdin",
     "output_type": "stream",
     "text": [
      "Enter a news article or headline:\n",
      " COPENHAGEN (Reuters) - Danish police said on Tuesday the size of a headless female torso found on the sea s edge in Copenhagen suggested it could be that of a Swedish journalist who died after taking a submarine ride with the vessel s Danish inventor. Police said divers were still searching the area and they were investigating reports of other body parts that may have been spotted in Copenhagen harbor. Danish inventor Peter Madsen has been charged with killing Kim Wall, a Swedish journalist, in his home-made submarine.   We re dealing with a torso where arms, legs and head were cut off deliberately. The length of the torso doesn t speak against it being Kim Wall, but we still don t know,  Copenhagen police spokesman Jens Moller said in a video statement. Madsen told a court she had died in an accident on board the submarine and that he had buried her at sea, changing his earlier statement that he dropped her off alive in Copenhagen. Police are conducting DNA tests to identify the torso - found on Monday by a passing cyclist - and the results are due Wednesday morning, Moller said. The bizarre case has dominated Danish and Swedish media, and drawn interest from around the world. Madsen has been charged with the manslaughter of Wall, who has been missing since he took her out to sea in his 17-metre (56 feet) submarine on Aug. 10. He denies the charge. He was rescued a day later after his UC3 Nautilus sank in the narrow strait between Denmark and Sweden. Police found nobody else in the wreck. Madsen, an entrepreneur, artist, submarine builder and aerospace engineer, went before a judge on Saturday for preliminary questioning. The case is closed to the public in order to protect further investigations, police said.\n"
     ]
    },
    {
     "name": "stdout",
     "output_type": "stream",
     "text": [
      "1/1 [==============================] - 0s 22ms/step\n",
      "\n",
      "Prediction: True (Confidence: 0.9999)\n"
     ]
    },
    {
     "name": "stdin",
     "output_type": "stream",
     "text": [
      "Enter a news article or headline:\n",
      " While on the campaign trail, candidate Donald Trump, a former reality show star, repeatedly mocked Sen. Marco Rubio for that time he drank water on the stage. Trump mocked Rubio at rallies about that and on Twitter, too. As they say, with this guy, there really is a tweet for everything. Trump did this after he kicked off his day blasting that  loser  network CNN, the  failing  New York Times and demanded a  thank you  from the UCLA basketball players who arrived in the states after being released from China. Then he summarized his trip to Asia, declaring it to be  the longest visit to the region by an American president in more than a quarter of a century.  He added that  America is back and the future has never looked better.  Then he seemed to have difficulty breathing and paused for water.Here is Trump doing that think he disparaged Rubio for doing:more proof that we're living in a simulation pic.twitter.com/7fGMxvRKUj  kevin driscoll (@kevndriscoll) November 15, 2017Trump grabbed a bottle of Fiji to quench his thirst, the exact brand that Rubio drank during the campaign. The Florida Republican responded on Twitter, saying,  Similar, but needs work on his form. Has to be done in one single motion & eyes should never leave the camera. But not bad for his 1st time. Similar,but needs work on his form.Has to be done in one single motion & eyes should never leave the camera. But not bad for his 1st time https://t.co/s49JtyRo3S  Marco Rubio (@marcorubio) November 15, 2017Trump has blasted Rubio multiple times for drinking water, perhaps because the former reality show star thinks he can walk on water. Next time Marco Rubio should drink his water from a glass as opposed to a bottle would have much less negative impact,  he tweeted.Next time Marco Rubio should drink his water from a glass as opposed to a bottle would have much less negative impact.  Donald J. Trump (@realDonaldTrump) February 13, 2013In another tweet, he wrote,  Marco Rubio is being crucified by the media for drinking water during speech! Marco Rubio is being crucified by the media for drinking water during speech!  Donald J. Trump (@realDonaldTrump) February 13, 2013And here is Trump at a rally mocking Rubio for drinking water.More than a tweet, there's also a video of Trump mocking Rubio's SOTU water moment. pic.twitter.com/dkKyrOIUGO  Kyle Griffin (@kylegriffin1) November 15, 2017The Internet never forgets these things.2 hands Donny no dribbles good boy  El Diablo ? (@joe23gavbrown) November 15, 2017OMG, there REALLY IS a tweet for every single thing!  Jennifer Sage??  (@vivavelo) November 15, 2017Hey lil-fingers: Take your own advice?  Russell Drapkin (@russelldrapkin) November 15, 2017Great work, Donald. pic.twitter.com/aG5vtxaFgt  Craig Harrington (@Craigipedia) November 15, 2017Trump pulls a Marco Rubio & slurps down water during his speech. But it s worse than Rubio. Trump holds the bottle with two hands like it s a baby bottle. Fitting.#ImpeachTrump #AMJoy pic.twitter.com/5CPKzSSCKq  Scott Dworkin (@funder) November 15, 2017Everything Trump accuses someone else of doing, he is guilty of that same thing, even something as simple as needing to quench his thirst.Image via screen capture.\n"
     ]
    },
    {
     "name": "stdout",
     "output_type": "stream",
     "text": [
      "1/1 [==============================] - 0s 21ms/step\n",
      "\n",
      "Prediction: Fake (Confidence: 0.0002)\n"
     ]
    },
    {
     "name": "stdin",
     "output_type": "stream",
     "text": [
      "Enter a news article or headline:\n",
      " Shawn Helton 21st Century WireEarlier this week Apple CEO Tim Cook publicly rejected an unprecedented US Federal Court order that would force the company to decrypt an iPhone linked to one of the San Bernardino shooters   a move that would have vast implications  PRIVACY & PROTECTION: Apple CEO Tim Cook challenges FBI court order to unlock private data of users (Image Source: Iphoneitalia)Breaching Public Privacy In a published open letter entitled,  A Message to Our Customers,   Apple CEO Tim Cook strikingly opposed a recent federal court ruling that would unlock a phone that s been connected to the San Bernardino Mass Shooting case.The FBI ruling stipulates that Apple must provide access for one time only. However, cyber security experts and technology companies insist this is a virtual impossibility and a guarantee that cannot be made.In theory, the decryption of the phone would be opened via a newly created operating system that would give the FBI a backdoor into the device. But according to many skeptics, this type of backdoor feature could set a very dangerous precedent, while possibly making it much easier for invaders (either government, or hacker) mining for data well into the future.In addition, the new iOS (not yet in existence) proposed in the wake of the San Bernardino shooting would give US law enforcement agencies broader access to consumer communications and other private information according to many in the tech industry. This reality was confirmed by Apple s chief executive Cook, who outlined the staggering privacy implications this past Tuesday: The FBI wants us to make a new version of the iPhone operating system, circumventing several important security features, and install it on an iPhone recovered during the investigation. In the wrong hands, this software   which does not exist today   would have the potential to unlock any iPhone in someone s physical possession. In essence, the FBI s court order demand appears to bypass basic privacy rights, and when seen in a bigger picture outside of the San Bernardino case, it could be viewed as a violation of the public s 4th Amendment.Challenging The RulingOver the past 48 hours, there s been a social media frenzy, as Facebook, Twitter and Google have all expressed their support for Apple s court battle with federal authorities. This has also included the often entertaining if not perplexing, self-proclaimed  cybersecurity legend  John McAfee of McAfee Inc., who wrote an op-ed published with Business Insider, that dissects the potential fallout of the federal court ruling in similar fashion to that of Cook.Here s some of what the controversial cyber guru turned libertarian presidential hopeful had to say about the dire security circumstances facing Apple and the world at large: Using an obscure law, written in 1789   the All Writs Act   the US government has ordered Apple to place a back door into its iOS software so the FBI can decrypt information on an iPhone used by one of the San Bernardino shooters. It has finally come to this. After years of arguments by virtually every industry specialist that back doors will be a bigger boon to hackers and to our nation s enemies than publishing our nuclear codes and giving the keys to all of our military weapons to the Russians and the Chinese, our government has chosen, once again, not to listen to the minds that have created the glue that holds this world together. Continuing, cyber expert McAfee, offered up a glimpse what could transpire in the event of a blackmail scenario if such a digital backdoor were to exist: In spite of the FBI s claim that it would protect the back door, we all know that s impossible. There are bad apples everywhere, and there only needs to be in the US government. Then a few million dollars, some beautiful women (or men), and a yacht trip to the Caribbean might be all it takes for our enemies to have full access to our secrets.   ANTIVIRUS PIONEER    John McAfee, well-known American computer programmer. (Photo businessinsider) McAfee then summarized his op-ed with a ready-made-solution to the FBI s demands by offering his services, I will, free of charge, decrypt the information on the San Bernardino phone, with my team, over a three-week period.On the surface, a sensational gauntlet has been thrown down, calling for the court of public opinion to weigh in on a very important topic concerning privacy rights. But there s much more to it This latest  privacy crisis  might be viewed through a more cynical lens, should readers choose to view this drama as a story featuring controlled opposition   especially when considering the pedigree of those supposedly opposed to the FBI s recent court order.Is it possible that Apple and others have staged opposition to this court decree as a way to bolster their public image, before eventually allowing the rights of private citizens to be abused? Both Cook and McAfee have direct links to companies plagued with security baggage such as Lockheed Martin and IBM, both of which have had their ethics put to question over the years.While there is nothing conclusive here, the public should consider this other side to the story and eliminate inconvenient possibilities in an effort to find the reality of the present circumstances, even if high profile tech leaders may appear to be saying the right things in public, purportedly in the interest of the general population.In an article featured here at 21WIRE from January of 2015, we learned of another privacy threat that should concern the public regarding biometric IDs   as facial and emotional recognition software has already been rolled out without public consent: More Orwellian technology is being rolled out, not just to make you into more of a commodity than you already are, but also to  profile  your emotions. With no regulation on this issue, corporations are basically writing the privacy rules as they go along. Do you trust them? Where is this really heading? In realty, they have no control over how third parties using their software might use images of people s faces and digital signatures of your  emotions , storing, sharing and selling that data across macro platforms. Sure, it s just another new wing of Big Data. Even social media data trawlers like Facebook has already begun moving into facial recognition of their users. So while it is compelling, and quite welcome to hear tech giants calling out the FBI s overreach, it appears that many in the technology sector have already pledged support for a growing police state apparatus by virtue of developing privacy invading software. For the moment though, it appears technology innovators Cook and McAfee, along with other social media companies, seem to be working on behalf of the public s interest, even though it could be out of concern for marketability rather than true worry about where the field of technology has been heading.Apple s iPhone and tablets introduced a biometric ID system with its thumb print login scan in 2013   a system which will store millions of biometric identifiers on Apple cloud servers. It wasn t long after the system was launched before hackers cracked the security for this biometric entry point, exposing another unspeakable privacy breach.If nothing else, it has caused a sharp debate over this pressing subject.  DIGITAL DANGER    The battle for consumer privacy hangs in the balance over the recent FBI court order. (Photo vibratingupdate)Problem, Reaction, SolutionAccording to the Guardian: For months, the FBI searched for a compelling case that would force Apple to weaken iPhone security   and then the San Bernardino shooting happened. This carefully planned legal battle has been months in the making, US officials and tech executives told the Guardian, as the government and Apple try to settle whether national security can dictate how Silicon Valley writes computer code. This past December, those of us at 21WIRE, pointed out a number of inconsistencies relating the heavily dramatized San Bernardino shooting attack. In fact, the media driven shooting attack said to have taken place at the Inland Regional Center had a laundry list of details that didn t add up.After a week of whitewashed reports regarding the shooting, a media scripted ransacking of the alleged  shooters  home (tampering with a potential crime scene) and eyewitness accounts that directly contradicted the official narrative from law enforcement, we learned that in the very room where 14 people were reportedly killed (along with 21 injured) at the Inland Regional Center, there was an  active-shooter  training drill/rehearsal, involving some of the victims almost a year before December s attack to place.Incredibly, a critical component that should be mentioned in the encryption battle involving Apple and the FBI, is that there were multiple eye-witness accounts that directly contradicted the terror-tale blamed solely on Syed Farook and Tashfeen Malik. In other words, we have an event largely hinged on a barrage of convoluted and conflicting accounts concerning the San Bernardino attack.The eye-witness accounts near the scene of the shooting, never mentioned anything about seeing a female shooter, which 21WIRE also noted this past December: In fact, authorities did apprehend a third suspect but that aspect of the case, has seemingly gone down the memory hole, as has the very detailed eye-witness testimony from Sally Abdelmageed, (an Inland Regional Center employee) in a CBS interview with Scott Pelley, which clearly states that there were three white men in tactical gear dressed in black involved in the shooting event. Abdelmageed s account, echoed that of Juan Hernandez, who was interviewed shortly after the shooting incident by a local NBC affiliate, where it was described that  three white men in military fatigues,  had fled the scene in black Chevy Impala or SUV. Despite all of this, CNN, ABC, FOX and all other media outlets on the scene   all pivoted, in unison, to validate authorities  (the FBI) revised official  Jihadi Bonnie & Clyde  story of  only 2 shooters   a husband and wife . Additionally, a close colleague from Inland Regional Center, Chris Nwadike, stated that Farook had been acting normal and that  he was quiet,  and that he had not had a disagreement with anyone at the center the day of the shooting. Furthermore, the FBI themselves revealed that both Malik and Farook had not posted radical messages on social media which had previously been reported by authorities (and dutifully repeated across the mainstream media).Even though the media eventually admitted that there were no  radical posts , the idea of  social media postings  became a central story line suggesting that Malik had somehow influenced Farook into participating in the attack. Regardless of what really happened, it seems that the FBI had the opening it needed to try to force open direct access into personal devices.Is it also possible the security agency wants access to the encrypted phone so they can plant an additional back story to a shooting case that never made any sense?Food for thought to chew on in today s digital age As the privacy vs. security battle moves forward, Reuters news agency reports: The U.S. Department of Justice filed a motion on Friday seeking to compel Apple Inc (AAPL.O) to comply with a judge s order to unlock the encrypted iPhone belonging to one of the San Bernardino shooters, portraying the tech giant s refusal as a  marketing strategy. The future of privacy hangs by a thread, as more and more divide and rule policies are being implemented at the expense of public freedoms.More to come on this story here at 21WIRE READ MORE SCI-TECH NEWS AT: 21st Century Wire Sci-Tech FilesREAD MORE DAILY SHOOTER NEWS AT: 21st Century Wire Daily Shooter Files\n"
     ]
    },
    {
     "name": "stdout",
     "output_type": "stream",
     "text": [
      "1/1 [==============================] - 0s 18ms/step\n",
      "\n",
      "Prediction: Fake (Confidence: 0.0005)\n"
     ]
    }
   ],
   "source": [
    "# Example usage\n",
    "for _ in range(4):\n",
    "    predict_user_input(tokenizer, resnet_model)"
   ]
  }
 ],
 "metadata": {
  "accelerator": "GPU",
  "colab": {
   "gpuType": "T4",
   "provenance": []
  },
  "kernelspec": {
   "display_name": "Python (gpuenv)",
   "language": "python",
   "name": "gpuenv"
  },
  "language_info": {
   "codemirror_mode": {
    "name": "ipython",
    "version": 3
   },
   "file_extension": ".py",
   "mimetype": "text/x-python",
   "name": "python",
   "nbconvert_exporter": "python",
   "pygments_lexer": "ipython3",
   "version": "3.10.16"
  }
 },
 "nbformat": 4,
 "nbformat_minor": 5
}
