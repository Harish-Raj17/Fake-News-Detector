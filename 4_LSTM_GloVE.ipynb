{
 "cells": [
  {
   "cell_type": "code",
   "execution_count": 1,
   "id": "70bb9e0d-4707-4124-985f-550b85352951",
   "metadata": {
    "id": "70bb9e0d-4707-4124-985f-550b85352951"
   },
   "outputs": [],
   "source": [
    "import numpy as np\n",
    "import pandas as pd\n",
    "import tensorflow as tf\n",
    "from tensorflow.keras.preprocessing.text import Tokenizer\n",
    "from tensorflow.keras.preprocessing.sequence import pad_sequences\n",
    "from tensorflow.keras.callbacks import EarlyStopping\n",
    "from tensorflow.keras.models import Sequential\n",
    "from tensorflow.keras.layers import Embedding, Conv1D, MaxPooling1D, LSTM, Bidirectional, Dense, Dropout, GlobalMaxPooling1D, Input, concatenate\n",
    "from tensorflow.keras.optimizers import Adamax\n",
    "from sklearn.model_selection import train_test_split\n",
    "from sklearn.metrics import accuracy_score, precision_score, recall_score, f1_score"
   ]
  },
  {
   "cell_type": "code",
   "execution_count": 2,
   "id": "d1c64c38-e820-4f4c-b821-075f5e079067",
   "metadata": {
    "colab": {
     "base_uri": "https://localhost:8080/",
     "height": 206
    },
    "id": "d1c64c38-e820-4f4c-b821-075f5e079067",
    "outputId": "bf0f8048-d38e-4740-a920-00ec966baa00"
   },
   "outputs": [
    {
     "data": {
      "text/html": [
       "<div>\n",
       "<style scoped>\n",
       "    .dataframe tbody tr th:only-of-type {\n",
       "        vertical-align: middle;\n",
       "    }\n",
       "\n",
       "    .dataframe tbody tr th {\n",
       "        vertical-align: top;\n",
       "    }\n",
       "\n",
       "    .dataframe thead th {\n",
       "        text-align: right;\n",
       "    }\n",
       "</style>\n",
       "<table border=\"1\" class=\"dataframe\">\n",
       "  <thead>\n",
       "    <tr style=\"text-align: right;\">\n",
       "      <th></th>\n",
       "      <th>text</th>\n",
       "      <th>label</th>\n",
       "    </tr>\n",
       "  </thead>\n",
       "  <tbody>\n",
       "    <tr>\n",
       "      <th>0</th>\n",
       "      <td>washington reuters head conservative republica...</td>\n",
       "      <td>1</td>\n",
       "    </tr>\n",
       "    <tr>\n",
       "      <th>1</th>\n",
       "      <td>washington reuters transgender people allowed ...</td>\n",
       "      <td>1</td>\n",
       "    </tr>\n",
       "    <tr>\n",
       "      <th>2</th>\n",
       "      <td>washington reuters special counsel investigati...</td>\n",
       "      <td>1</td>\n",
       "    </tr>\n",
       "    <tr>\n",
       "      <th>3</th>\n",
       "      <td>washington reuters trump campaign adviser geor...</td>\n",
       "      <td>1</td>\n",
       "    </tr>\n",
       "    <tr>\n",
       "      <th>4</th>\n",
       "      <td>seattlewashington reuters president donald tru...</td>\n",
       "      <td>1</td>\n",
       "    </tr>\n",
       "  </tbody>\n",
       "</table>\n",
       "</div>"
      ],
      "text/plain": [
       "                                                text  label\n",
       "0  washington reuters head conservative republica...      1\n",
       "1  washington reuters transgender people allowed ...      1\n",
       "2  washington reuters special counsel investigati...      1\n",
       "3  washington reuters trump campaign adviser geor...      1\n",
       "4  seattlewashington reuters president donald tru...      1"
      ]
     },
     "execution_count": 2,
     "metadata": {},
     "output_type": "execute_result"
    }
   ],
   "source": [
    "df = pd.read_csv('1_augmented_df.csv')\n",
    "df.head()"
   ]
  },
  {
   "cell_type": "code",
   "execution_count": 3,
   "id": "717879de-9f31-4392-89e4-21cb0237bbf0",
   "metadata": {
    "id": "717879de-9f31-4392-89e4-21cb0237bbf0"
   },
   "outputs": [],
   "source": [
    "# Split data into training and testing sets\n",
    "X_train, X_test, y_train, y_test = train_test_split(df['text'], df['label'], test_size=0.2, random_state=42)"
   ]
  },
  {
   "cell_type": "code",
   "execution_count": 4,
   "id": "e256ca5e-d9f7-4ee1-ace8-80580e1fc65f",
   "metadata": {
    "id": "e256ca5e-d9f7-4ee1-ace8-80580e1fc65f"
   },
   "outputs": [],
   "source": [
    "# Tokenization and padding\n",
    "X_train = pd.Series(X_train).fillna(\"\").astype(str)\n",
    "X_test = pd.Series(X_test).fillna(\"\").astype(str)\n",
    "tokenizer = Tokenizer(num_words=10000)\n",
    "tokenizer.fit_on_texts(X_train)\n",
    "X_train_seq = tokenizer.texts_to_sequences(X_train)\n",
    "X_test_seq = tokenizer.texts_to_sequences(X_test)\n",
    "X_train_pad = pad_sequences(X_train_seq, maxlen=1000)\n",
    "X_test_pad = pad_sequences(X_test_seq, maxlen=1000)"
   ]
  },
  {
   "cell_type": "code",
   "execution_count": 5,
   "id": "a0b0d6a9-8d23-42db-a200-dd44ff0e9942",
   "metadata": {
    "id": "a0b0d6a9-8d23-42db-a200-dd44ff0e9942"
   },
   "outputs": [],
   "source": [
    "# Load pre-trained word embeddings (GloVe)\n",
    "def load_glove_embeddings():\n",
    "    embeddings_index = {}\n",
    "    with open('glove.6B.100d.txt', encoding='utf-8') as f:\n",
    "        for line in f:\n",
    "            values = line.split()\n",
    "            word = values[0]\n",
    "            coefs = np.asarray(values[1:], dtype='float32')\n",
    "            embeddings_index[word] = coefs\n",
    "    return embeddings_index\n",
    "\n",
    "embeddings_index = load_glove_embeddings()\n",
    "embedding_dim = 100\n",
    "embedding_matrix = np.zeros((10000, embedding_dim))\n",
    "for word, i in tokenizer.word_index.items():\n",
    "    if i < 10000:\n",
    "        embedding_vector = embeddings_index.get(word)\n",
    "        if embedding_vector is not None:\n",
    "            embedding_matrix[i] = embedding_vector"
   ]
  },
  {
   "cell_type": "code",
   "execution_count": 6,
   "id": "5983b000-208f-48b9-96ac-01dc03f7f586",
   "metadata": {
    "id": "5983b000-208f-48b9-96ac-01dc03f7f586"
   },
   "outputs": [],
   "source": [
    "# Define Bidirectional LSTM model\n",
    "def build_bilstm_model():\n",
    "    model = Sequential()\n",
    "    model.add(Embedding(input_dim=10000, output_dim=embedding_dim, input_length=1000, weights=[embedding_matrix], trainable=False))\n",
    "    model.add(Bidirectional(LSTM(128, return_sequences=True)))\n",
    "    model.add(GlobalMaxPooling1D())\n",
    "    model.add(Dense(128, activation='relu'))\n",
    "    model.add(Dropout(0.5))\n",
    "    model.add(Dense(1, activation='sigmoid'))\n",
    "    model.compile(optimizer=Adamax(), loss='binary_crossentropy', metrics=['accuracy'])\n",
    "\n",
    "    return model\n",
    "\n",
    "# Train and evaluate models\n",
    "def train_and_evaluate(model, X_train, y_train, X_test, y_test):\n",
    "    model.fit(X_train, y_train, epochs=15, batch_size=64, validation_split=0.2)\n",
    "    y_pred = model.predict(X_test)\n",
    "    y_pred = (y_pred > 0.5).astype(int)\n",
    "    accuracy = accuracy_score(y_test, y_pred)\n",
    "    precision = precision_score(y_test, y_pred)\n",
    "    recall = recall_score(y_test, y_pred)\n",
    "    f1 = f1_score(y_test, y_pred)\n",
    "    return accuracy, precision, recall, f1, y_pred"
   ]
  },
  {
   "cell_type": "code",
   "execution_count": 7,
   "id": "92eb1dba-316f-45d1-8bff-6cd67b1cf80c",
   "metadata": {},
   "outputs": [
    {
     "name": "stdout",
     "output_type": "stream",
     "text": [
      "GPU is detected and available!\n"
     ]
    }
   ],
   "source": [
    "def check_gpu():\n",
    "    if tf.config.list_physical_devices('GPU'):\n",
    "        print(\"GPU is detected and available!\")\n",
    "    else:\n",
    "        print(\"No GPU detected. TensorFlow will use the CPU.\")\n",
    "        \n",
    "check_gpu()"
   ]
  },
  {
   "cell_type": "code",
   "execution_count": 8,
   "id": "d51cea40-d6b8-43a1-b40f-0fee7878fec1",
   "metadata": {
    "colab": {
     "base_uri": "https://localhost:8080/"
    },
    "id": "d51cea40-d6b8-43a1-b40f-0fee7878fec1",
    "outputId": "33b37da6-6475-43e2-a436-5a9d2c802737"
   },
   "outputs": [
    {
     "name": "stdout",
     "output_type": "stream",
     "text": [
      "Epoch 1/15\n",
      "470/470 [==============================] - 74s 149ms/step - loss: 0.1284 - accuracy: 0.9531 - val_loss: 0.0242 - val_accuracy: 0.9945\n",
      "Epoch 2/15\n",
      "470/470 [==============================] - 69s 147ms/step - loss: 0.0176 - accuracy: 0.9955 - val_loss: 0.0081 - val_accuracy: 0.9980\n",
      "Epoch 3/15\n",
      "470/470 [==============================] - 67s 142ms/step - loss: 0.0101 - accuracy: 0.9975 - val_loss: 0.0105 - val_accuracy: 0.9969\n",
      "Epoch 4/15\n",
      "470/470 [==============================] - 64s 137ms/step - loss: 0.0074 - accuracy: 0.9982 - val_loss: 0.0061 - val_accuracy: 0.9987\n",
      "Epoch 5/15\n",
      "470/470 [==============================] - 67s 142ms/step - loss: 0.0064 - accuracy: 0.9986 - val_loss: 0.0054 - val_accuracy: 0.9988\n",
      "Epoch 6/15\n",
      "470/470 [==============================] - 66s 140ms/step - loss: 0.0051 - accuracy: 0.9989 - val_loss: 0.0046 - val_accuracy: 0.9989\n",
      "Epoch 7/15\n",
      "470/470 [==============================] - 66s 140ms/step - loss: 0.0047 - accuracy: 0.9989 - val_loss: 0.0044 - val_accuracy: 0.9992\n",
      "Epoch 8/15\n",
      "470/470 [==============================] - 66s 140ms/step - loss: 0.0038 - accuracy: 0.9990 - val_loss: 0.0046 - val_accuracy: 0.9991\n",
      "Epoch 9/15\n",
      "470/470 [==============================] - 66s 140ms/step - loss: 0.0035 - accuracy: 0.9991 - val_loss: 0.0047 - val_accuracy: 0.9985\n",
      "Epoch 10/15\n",
      "470/470 [==============================] - 66s 140ms/step - loss: 0.0027 - accuracy: 0.9994 - val_loss: 0.0041 - val_accuracy: 0.9989\n",
      "Epoch 11/15\n",
      "470/470 [==============================] - 66s 140ms/step - loss: 0.0023 - accuracy: 0.9994 - val_loss: 0.0043 - val_accuracy: 0.9991\n",
      "Epoch 12/15\n",
      "470/470 [==============================] - 66s 140ms/step - loss: 0.0017 - accuracy: 0.9995 - val_loss: 0.0045 - val_accuracy: 0.9989\n",
      "Epoch 13/15\n",
      "470/470 [==============================] - 66s 140ms/step - loss: 0.0014 - accuracy: 0.9995 - val_loss: 0.0037 - val_accuracy: 0.9995\n",
      "Epoch 14/15\n",
      "470/470 [==============================] - 66s 141ms/step - loss: 0.0015 - accuracy: 0.9997 - val_loss: 0.0048 - val_accuracy: 0.9989\n",
      "Epoch 15/15\n",
      "470/470 [==============================] - 66s 140ms/step - loss: 0.0013 - accuracy: 0.9997 - val_loss: 0.0040 - val_accuracy: 0.9991\n",
      "294/294 [==============================] - 12s 38ms/step\n",
      "Bidirectional LSTM - Accuracy: 0.9979789384108073, Precision: 0.9993571887722306, Recall: 0.9965811965811966, F1: 0.9979672622231732\n"
     ]
    }
   ],
   "source": [
    "# Bidirectional LSTM model\n",
    "bilstm_model = build_bilstm_model()\n",
    "bilstm_accuracy, bilstm_precision, bilstm_recall, bilstm_f1, y_pred = train_and_evaluate(bilstm_model, X_train_pad, y_train, X_test_pad, y_test)\n",
    "print(f\"Bidirectional LSTM - Accuracy: {bilstm_accuracy}, Precision: {bilstm_precision}, Recall: {bilstm_recall}, F1: {bilstm_f1}\")"
   ]
  },
  {
   "cell_type": "code",
   "execution_count": 9,
   "id": "5442d77b-7afd-4cf9-bf3c-3e6cf860e186",
   "metadata": {
    "id": "a1e5b4cf-e4b1-45ee-ab57-b0ea5d3cb734"
   },
   "outputs": [
    {
     "data": {
      "image/png": "[encoded data removed]",
      "text/plain": [
       "<Figure size 600x600 with 2 Axes>"
      ]
     },
     "metadata": {},
     "output_type": "display_data"
    }
   ],
   "source": [
    "from sklearn.metrics import confusion_matrix\n",
    "import matplotlib.pyplot as plt\n",
    "import seaborn as sns\n",
    "\n",
    "def plot_confusion_matrix(y_true, y_pred, accuracy, precision, recall, f1):\n",
    "    cm = confusion_matrix(y_true, y_pred)\n",
    "    plt.figure(figsize=(6, 6))\n",
    "    sns.heatmap(cm, annot=True, fmt='d', cmap='Blues', xticklabels=np.unique(y_true), yticklabels=np.unique(y_true))\n",
    "    plt.xlabel('Predicted')\n",
    "    plt.ylabel('Actual')\n",
    "    plt.title(f'Confusion Matrix\\nAccuracy: {accuracy:.2f}, Precision: {precision:.2f}, Recall: {recall:.2f}, F1: {f1:.2f}')\n",
    "    plt.show()\n",
    "\n",
    "plot_confusion_matrix(y_test, y_pred, bilstm_accuracy, bilstm_precision, bilstm_recall, bilstm_f1)"
   ]
  },
  {
   "cell_type": "code",
   "execution_count": 10,
   "id": "ff373fbd-71d9-4d20-8030-7093d88c8ca6",
   "metadata": {},
   "outputs": [
    {
     "name": "stderr",
     "output_type": "stream",
     "text": [
      "[nltk_data] Downloading package stopwords to\n",
      "[nltk_data]     C:\\Users\\ashis\\AppData\\Roaming\\nltk_data...\n",
      "[nltk_data]   Package stopwords is already up-to-date!\n",
      "[nltk_data] Downloading package wordnet to\n",
      "[nltk_data]     C:\\Users\\ashis\\AppData\\Roaming\\nltk_data...\n",
      "[nltk_data]   Package wordnet is already up-to-date!\n",
      "[nltk_data] Downloading package omw-1.4 to\n",
      "[nltk_data]     C:\\Users\\ashis\\AppData\\Roaming\\nltk_data...\n",
      "[nltk_data]   Package omw-1.4 is already up-to-date!\n"
     ]
    },
    {
     "data": {
      "text/plain": [
       "True"
      ]
     },
     "execution_count": 10,
     "metadata": {},
     "output_type": "execute_result"
    }
   ],
   "source": [
    "import re\n",
    "import numpy as np\n",
    "from nltk.corpus import stopwords\n",
    "from nltk.stem import WordNetLemmatizer\n",
    "from tensorflow.keras.preprocessing.sequence import pad_sequences\n",
    "\n",
    "# Make sure to download NLTK resources beforehand\n",
    "import nltk\n",
    "nltk.download('stopwords')\n",
    "nltk.download('wordnet')\n",
    "nltk.download('omw-1.4')"
   ]
  },
  {
   "cell_type": "code",
   "execution_count": 11,
   "id": "5a60a828-87ab-4c21-b8a6-56979d4b1792",
   "metadata": {},
   "outputs": [],
   "source": [
    "# Preprocessing function from your notebook\n",
    "def preprocess_text(text):\n",
    "    text = text.lower()\n",
    "    text = re.sub(r'[^\\w\\s]', '', text)\n",
    "    text = re.sub(r'\\d+', '', text)\n",
    "    tokens = text.split()\n",
    "    tokens = [word for word in tokens if word not in stopwords.words('english')]\n",
    "    lemmatizer = WordNetLemmatizer()\n",
    "    tokens = [lemmatizer.lemmatize(word) for word in tokens]\n",
    "    return ' '.join(tokens)\n",
    "\n",
    "# Prediction function with preprocessing\n",
    "def predict_user_input(tokenizer, model, maxlen=1000):\n",
    "    user_input = input(\"Enter a news article or headline:\\n\")\n",
    "    clean_text = preprocess_text(user_input)\n",
    "    seq = tokenizer.texts_to_sequences([clean_text])\n",
    "    padded = pad_sequences(seq, maxlen=maxlen)\n",
    "    prediction = model.predict(padded)[0][0]\n",
    "    label = \"True\" if prediction > 0.5 else \"Fake\"\n",
    "    print(f\"\\nPrediction: {label} (Confidence: {prediction:.4f})\")"
   ]
  },
  {
   "cell_type": "code",
   "execution_count": 12,
   "id": "8210b4ec-e382-4f0f-a11c-ef4e25a460fe",
   "metadata": {},
   "outputs": [
    {
     "name": "stdin",
     "output_type": "stream",
     "text": [
      "Enter a news article or headline:\n",
      " MADRID (Reuters) - Spain s northeastern region of Catalonia, hit last week by two Islamist militant attacks which killed 15 people, is to deploy more police, install bollards in Barcelona and step up security around stations and tourist landmarks. The aim is to strike a balance between security and not overloading residents with restrictions.  We re looking at introducing (street) obstacles that could be mobile,  Joaquin Forn, who is in charge of home affairs in Catalonia, told a news conference on Wednesday. A van plowed into crowds of holidaymakers and local residents on Barcelona s crowded Las Ramblas boulevard last Thursday, killing 13 people. Two others were killed during the driver s getaway and in a separate attack in Cambrils. The Barcelona rampage reignited a row over how cities can better prevent such attacks. Militants have used trucks and cars as weapons to kill nearly 130 people in France, Germany, Britain, Sweden and Spain over the past 13 months. Catalan authorities may also erect some permanent barriers and turn some streets into pedestrian-only thoroughfares, Forn said. The regional capital, which receives around 30 million visitors a year, is home to several landmarks designed by architect Antoni Gaudi, including the towering Sagrada Familia. Forn added that some 10 percent more police would be deployed. Islamic State, which claimed responsibility for the attacks in Catalonia, issued a video via one of its official channels on Wednesday showing two of its fighters making threats in Spanish against Spain, interspersed with images of the aftermath of the Barcelona attack. One fighter pledged to avenge Muslim blood spilled by the Spanish Inquisition, established in 1478, and what he said was the killing Spain was currently engaged in against Islamic State. This was an apparent reference to Iraq, where Spain has several hundred soldiers training local forces in the fight against Islamic State. Investigators are still looking into whether the suspects behind last week s attacks had links to France or Belgium and are examining their movements over recent weeks as they look for connections to possible cells elsewhere in Europe.  The car used in the attack in Cambrils, south of Barcelona, was caught on camera speeding in the Paris region days earlier.  We are still trying to establish why they were in the Paris area,  French Interior Minister Gerard Collomb told reporters at a joint news conference in Paris with his Spanish counterpart on Wednesday.  Spanish Interior Minister Juan Ignacio Zoido said France and Spain would continue to reinforce border checks and step up information exchanges, including of passenger information in real time. One of the suspects has said the leader of the militant group was an imam, Abdelbaki Es Satty, who died a day before the Barcelona attack when a house the group was using to build bombs blew up. Court officials in Spain s Valencia region said on Wednesday that Spain had issued an expulsion order against Es Satty after he served a four-year jail term for drug-trafficking but that this was annulled by a court in 2015 after Es Satty appealed. The judge at the time overturned the expulsion order partly because Es Satty had employment roots in Spain which he said  shows his efforts to integrate in Spanish society.   A dozen Islamist militants suspected of involvement in the plot were either killed or arrested. A judge on Tuesday ordered two suspects jailed, one remained in police custody pending further investigation and a fourth was freed with conditions.\n"
     ]
    },
    {
     "name": "stdout",
     "output_type": "stream",
     "text": [
      "1/1 [==============================] - 0s 51ms/step\n",
      "\n",
      "Prediction: True (Confidence: 1.0000)\n"
     ]
    },
    {
     "name": "stdin",
     "output_type": "stream",
     "text": [
      "Enter a news article or headline:\n",
      " COPENHAGEN (Reuters) - Danish police said on Tuesday the size of a headless female torso found on the sea s edge in Copenhagen suggested it could be that of a Swedish journalist who died after taking a submarine ride with the vessel s Danish inventor. Police said divers were still searching the area and they were investigating reports of other body parts that may have been spotted in Copenhagen harbor. Danish inventor Peter Madsen has been charged with killing Kim Wall, a Swedish journalist, in his home-made submarine.   We re dealing with a torso where arms, legs and head were cut off deliberately. The length of the torso doesn t speak against it being Kim Wall, but we still don t know,  Copenhagen police spokesman Jens Moller said in a video statement. Madsen told a court she had died in an accident on board the submarine and that he had buried her at sea, changing his earlier statement that he dropped her off alive in Copenhagen. Police are conducting DNA tests to identify the torso - found on Monday by a passing cyclist - and the results are due Wednesday morning, Moller said. The bizarre case has dominated Danish and Swedish media, and drawn interest from around the world. Madsen has been charged with the manslaughter of Wall, who has been missing since he took her out to sea in his 17-metre (56 feet) submarine on Aug. 10. He denies the charge. He was rescued a day later after his UC3 Nautilus sank in the narrow strait between Denmark and Sweden. Police found nobody else in the wreck. Madsen, an entrepreneur, artist, submarine builder and aerospace engineer, went before a judge on Saturday for preliminary questioning. The case is closed to the public in order to protect further investigations, police said.\n"
     ]
    },
    {
     "name": "stdout",
     "output_type": "stream",
     "text": [
      "1/1 [==============================] - 0s 41ms/step\n",
      "\n",
      "Prediction: True (Confidence: 1.0000)\n"
     ]
    },
    {
     "name": "stdin",
     "output_type": "stream",
     "text": [
      "Enter a news article or headline:\n",
      " While on the campaign trail, candidate Donald Trump, a former reality show star, repeatedly mocked Sen. Marco Rubio for that time he drank water on the stage. Trump mocked Rubio at rallies about that and on Twitter, too. As they say, with this guy, there really is a tweet for everything. Trump did this after he kicked off his day blasting that  loser  network CNN, the  failing  New York Times and demanded a  thank you  from the UCLA basketball players who arrived in the states after being released from China. Then he summarized his trip to Asia, declaring it to be  the longest visit to the region by an American president in more than a quarter of a century.  He added that  America is back and the future has never looked better.  Then he seemed to have difficulty breathing and paused for water.Here is Trump doing that think he disparaged Rubio for doing:more proof that we're living in a simulation pic.twitter.com/7fGMxvRKUj  kevin driscoll (@kevndriscoll) November 15, 2017Trump grabbed a bottle of Fiji to quench his thirst, the exact brand that Rubio drank during the campaign. The Florida Republican responded on Twitter, saying,  Similar, but needs work on his form. Has to be done in one single motion & eyes should never leave the camera. But not bad for his 1st time. Similar,but needs work on his form.Has to be done in one single motion & eyes should never leave the camera. But not bad for his 1st time https://t.co/s49JtyRo3S  Marco Rubio (@marcorubio) November 15, 2017Trump has blasted Rubio multiple times for drinking water, perhaps because the former reality show star thinks he can walk on water. Next time Marco Rubio should drink his water from a glass as opposed to a bottle would have much less negative impact,  he tweeted.Next time Marco Rubio should drink his water from a glass as opposed to a bottle would have much less negative impact.  Donald J. Trump (@realDonaldTrump) February 13, 2013In another tweet, he wrote,  Marco Rubio is being crucified by the media for drinking water during speech! Marco Rubio is being crucified by the media for drinking water during speech!  Donald J. Trump (@realDonaldTrump) February 13, 2013And here is Trump at a rally mocking Rubio for drinking water.More than a tweet, there's also a video of Trump mocking Rubio's SOTU water moment. pic.twitter.com/dkKyrOIUGO  Kyle Griffin (@kylegriffin1) November 15, 2017The Internet never forgets these things.2 hands Donny no dribbles good boy  El Diablo ? (@joe23gavbrown) November 15, 2017OMG, there REALLY IS a tweet for every single thing!  Jennifer Sage??  (@vivavelo) November 15, 2017Hey lil-fingers: Take your own advice?  Russell Drapkin (@russelldrapkin) November 15, 2017Great work, Donald. pic.twitter.com/aG5vtxaFgt  Craig Harrington (@Craigipedia) November 15, 2017Trump pulls a Marco Rubio & slurps down water during his speech. But it s worse than Rubio. Trump holds the bottle with two hands like it s a baby bottle. Fitting.#ImpeachTrump #AMJoy pic.twitter.com/5CPKzSSCKq  Scott Dworkin (@funder) November 15, 2017Everything Trump accuses someone else of doing, he is guilty of that same thing, even something as simple as needing to quench his thirst.Image via screen capture.\n"
     ]
    },
    {
     "name": "stdout",
     "output_type": "stream",
     "text": [
      "1/1 [==============================] - 0s 32ms/step\n",
      "\n",
      "Prediction: Fake (Confidence: 0.0000)\n"
     ]
    },
    {
     "name": "stdin",
     "output_type": "stream",
     "text": [
      "Enter a news article or headline:\n",
      " Shawn Helton 21st Century WireEarlier this week Apple CEO Tim Cook publicly rejected an unprecedented US Federal Court order that would force the company to decrypt an iPhone linked to one of the San Bernardino shooters   a move that would have vast implications  PRIVACY & PROTECTION: Apple CEO Tim Cook challenges FBI court order to unlock private data of users (Image Source: Iphoneitalia)Breaching Public Privacy In a published open letter entitled,  A Message to Our Customers,   Apple CEO Tim Cook strikingly opposed a recent federal court ruling that would unlock a phone that s been connected to the San Bernardino Mass Shooting case.The FBI ruling stipulates that Apple must provide access for one time only. However, cyber security experts and technology companies insist this is a virtual impossibility and a guarantee that cannot be made.In theory, the decryption of the phone would be opened via a newly created operating system that would give the FBI a backdoor into the device. But according to many skeptics, this type of backdoor feature could set a very dangerous precedent, while possibly making it much easier for invaders (either government, or hacker) mining for data well into the future.In addition, the new iOS (not yet in existence) proposed in the wake of the San Bernardino shooting would give US law enforcement agencies broader access to consumer communications and other private information according to many in the tech industry. This reality was confirmed by Apple s chief executive Cook, who outlined the staggering privacy implications this past Tuesday: The FBI wants us to make a new version of the iPhone operating system, circumventing several important security features, and install it on an iPhone recovered during the investigation. In the wrong hands, this software   which does not exist today   would have the potential to unlock any iPhone in someone s physical possession. In essence, the FBI s court order demand appears to bypass basic privacy rights, and when seen in a bigger picture outside of the San Bernardino case, it could be viewed as a violation of the public s 4th Amendment.Challenging The RulingOver the past 48 hours, there s been a social media frenzy, as Facebook, Twitter and Google have all expressed their support for Apple s court battle with federal authorities. This has also included the often entertaining if not perplexing, self-proclaimed  cybersecurity legend  John McAfee of McAfee Inc., who wrote an op-ed published with Business Insider, that dissects the potential fallout of the federal court ruling in similar fashion to that of Cook.Here s some of what the controversial cyber guru turned libertarian presidential hopeful had to say about the dire security circumstances facing Apple and the world at large: Using an obscure law, written in 1789   the All Writs Act   the US government has ordered Apple to place a back door into its iOS software so the FBI can decrypt information on an iPhone used by one of the San Bernardino shooters. It has finally come to this. After years of arguments by virtually every industry specialist that back doors will be a bigger boon to hackers and to our nation s enemies than publishing our nuclear codes and giving the keys to all of our military weapons to the Russians and the Chinese, our government has chosen, once again, not to listen to the minds that have created the glue that holds this world together. Continuing, cyber expert McAfee, offered up a glimpse what could transpire in the event of a blackmail scenario if such a digital backdoor were to exist: In spite of the FBI s claim that it would protect the back door, we all know that s impossible. There are bad apples everywhere, and there only needs to be in the US government. Then a few million dollars, some beautiful women (or men), and a yacht trip to the Caribbean might be all it takes for our enemies to have full access to our secrets.   ANTIVIRUS PIONEER    John McAfee, well-known American computer programmer. (Photo businessinsider) McAfee then summarized his op-ed with a ready-made-solution to the FBI s demands by offering his services, I will, free of charge, decrypt the information on the San Bernardino phone, with my team, over a three-week period.On the surface, a sensational gauntlet has been thrown down, calling for the court of public opinion to weigh in on a very important topic concerning privacy rights. But there s much more to it This latest  privacy crisis  might be viewed through a more cynical lens, should readers choose to view this drama as a story featuring controlled opposition   especially when considering the pedigree of those supposedly opposed to the FBI s recent court order.Is it possible that Apple and others have staged opposition to this court decree as a way to bolster their public image, before eventually allowing the rights of private citizens to be abused? Both Cook and McAfee have direct links to companies plagued with security baggage such as Lockheed Martin and IBM, both of which have had their ethics put to question over the years.While there is nothing conclusive here, the public should consider this other side to the story and eliminate inconvenient possibilities in an effort to find the reality of the present circumstances, even if high profile tech leaders may appear to be saying the right things in public, purportedly in the interest of the general population.In an article featured here at 21WIRE from January of 2015, we learned of another privacy threat that should concern the public regarding biometric IDs   as facial and emotional recognition software has already been rolled out without public consent: More Orwellian technology is being rolled out, not just to make you into more of a commodity than you already are, but also to  profile  your emotions. With no regulation on this issue, corporations are basically writing the privacy rules as they go along. Do you trust them? Where is this really heading? In realty, they have no control over how third parties using their software might use images of people s faces and digital signatures of your  emotions , storing, sharing and selling that data across macro platforms. Sure, it s just another new wing of Big Data. Even social media data trawlers like Facebook has already begun moving into facial recognition of their users. So while it is compelling, and quite welcome to hear tech giants calling out the FBI s overreach, it appears that many in the technology sector have already pledged support for a growing police state apparatus by virtue of developing privacy invading software. For the moment though, it appears technology innovators Cook and McAfee, along with other social media companies, seem to be working on behalf of the public s interest, even though it could be out of concern for marketability rather than true worry about where the field of technology has been heading.Apple s iPhone and tablets introduced a biometric ID system with its thumb print login scan in 2013   a system which will store millions of biometric identifiers on Apple cloud servers. It wasn t long after the system was launched before hackers cracked the security for this biometric entry point, exposing another unspeakable privacy breach.If nothing else, it has caused a sharp debate over this pressing subject.  DIGITAL DANGER    The battle for consumer privacy hangs in the balance over the recent FBI court order. (Photo vibratingupdate)Problem, Reaction, SolutionAccording to the Guardian: For months, the FBI searched for a compelling case that would force Apple to weaken iPhone security   and then the San Bernardino shooting happened. This carefully planned legal battle has been months in the making, US officials and tech executives told the Guardian, as the government and Apple try to settle whether national security can dictate how Silicon Valley writes computer code. This past December, those of us at 21WIRE, pointed out a number of inconsistencies relating the heavily dramatized San Bernardino shooting attack. In fact, the media driven shooting attack said to have taken place at the Inland Regional Center had a laundry list of details that didn t add up.After a week of whitewashed reports regarding the shooting, a media scripted ransacking of the alleged  shooters  home (tampering with a potential crime scene) and eyewitness accounts that directly contradicted the official narrative from law enforcement, we learned that in the very room where 14 people were reportedly killed (along with 21 injured) at the Inland Regional Center, there was an  active-shooter  training drill/rehearsal, involving some of the victims almost a year before December s attack to place.Incredibly, a critical component that should be mentioned in the encryption battle involving Apple and the FBI, is that there were multiple eye-witness accounts that directly contradicted the terror-tale blamed solely on Syed Farook and Tashfeen Malik. In other words, we have an event largely hinged on a barrage of convoluted and conflicting accounts concerning the San Bernardino attack.The eye-witness accounts near the scene of the shooting, never mentioned anything about seeing a female shooter, which 21WIRE also noted this past December: In fact, authorities did apprehend a third suspect but that aspect of the case, has seemingly gone down the memory hole, as has the very detailed eye-witness testimony from Sally Abdelmageed, (an Inland Regional Center employee) in a CBS interview with Scott Pelley, which clearly states that there were three white men in tactical gear dressed in black involved in the shooting event. Abdelmageed s account, echoed that of Juan Hernandez, who was interviewed shortly after the shooting incident by a local NBC affiliate, where it was described that  three white men in military fatigues,  had fled the scene in black Chevy Impala or SUV. Despite all of this, CNN, ABC, FOX and all other media outlets on the scene   all pivoted, in unison, to validate authorities  (the FBI) revised official  Jihadi Bonnie & Clyde  story of  only 2 shooters   a husband and wife . Additionally, a close colleague from Inland Regional Center, Chris Nwadike, stated that Farook had been acting normal and that  he was quiet,  and that he had not had a disagreement with anyone at the center the day of the shooting. Furthermore, the FBI themselves revealed that both Malik and Farook had not posted radical messages on social media which had previously been reported by authorities (and dutifully repeated across the mainstream media).Even though the media eventually admitted that there were no  radical posts , the idea of  social media postings  became a central story line suggesting that Malik had somehow influenced Farook into participating in the attack. Regardless of what really happened, it seems that the FBI had the opening it needed to try to force open direct access into personal devices.Is it also possible the security agency wants access to the encrypted phone so they can plant an additional back story to a shooting case that never made any sense?Food for thought to chew on in today s digital age As the privacy vs. security battle moves forward, Reuters news agency reports: The U.S. Department of Justice filed a motion on Friday seeking to compel Apple Inc (AAPL.O) to comply with a judge s order to unlock the encrypted iPhone belonging to one of the San Bernardino shooters, portraying the tech giant s refusal as a  marketing strategy. The future of privacy hangs by a thread, as more and more divide and rule policies are being implemented at the expense of public freedoms.More to come on this story here at 21WIRE READ MORE SCI-TECH NEWS AT: 21st Century Wire Sci-Tech FilesREAD MORE DAILY SHOOTER NEWS AT: 21st Century Wire Daily Shooter Files\n"
     ]
    },
    {
     "name": "stdout",
     "output_type": "stream",
     "text": [
      "1/1 [==============================] - 0s 35ms/step\n",
      "\n",
      "Prediction: Fake (Confidence: 0.0000)\n"
     ]
    }
   ],
   "source": [
    "# Example usage\n",
    "for _ in range(4):\n",
    "    predict_user_input(tokenizer, bilstm_model)"
   ]
  }
 ],
 "metadata": {
  "accelerator": "GPU",
  "colab": {
   "gpuType": "T4",
   "provenance": []
  },
  "kernelspec": {
   "display_name": "Python (gpuenv)",
   "language": "python",
   "name": "gpuenv"
  },
  "language_info": {
   "codemirror_mode": {
    "name": "ipython",
    "version": 3
   },
   "file_extension": ".py",
   "mimetype": "text/x-python",
   "name": "python",
   "nbconvert_exporter": "python",
   "pygments_lexer": "ipython3",
   "version": "3.10.16"
  }
 },
 "nbformat": 4,
 "nbformat_minor": 5
}
